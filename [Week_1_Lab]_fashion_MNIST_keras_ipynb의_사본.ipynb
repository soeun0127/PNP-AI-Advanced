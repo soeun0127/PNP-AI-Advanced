{
  "nbformat": 4,
  "nbformat_minor": 0,
  "metadata": {
    "colab": {
      "provenance": [],
      "gpuType": "T4",
      "include_colab_link": true
    },
    "kernelspec": {
      "display_name": "Python 3",
      "name": "python3"
    },
    "language_info": {
      "codemirror_mode": {
        "name": "ipython",
        "version": 3
      },
      "file_extension": ".py",
      "mimetype": "text/x-python",
      "name": "python",
      "nbconvert_exporter": "python",
      "pygments_lexer": "ipython3",
      "version": "3.6.8"
    },
    "accelerator": "GPU"
  },
  "cells": [
    {
      "cell_type": "markdown",
      "metadata": {
        "id": "view-in-github",
        "colab_type": "text"
      },
      "source": [
        "<a href=\"https://colab.research.google.com/github/soeun0127/PNP-AI-Advanced/blob/main/%5BWeek_1_Lab%5D_fashion_MNIST_keras_ipynb%EC%9D%98_%EC%82%AC%EB%B3%B8.ipynb\" target=\"_parent\"><img src=\"https://colab.research.google.com/assets/colab-badge.svg\" alt=\"Open In Colab\"/></a>"
      ]
    },
    {
      "cell_type": "markdown",
      "source": [
        "### 실습 자료중 Minist with DNN이 비슷한 Flow이니까 참고해서 해주시면 됩니다."
      ],
      "metadata": {
        "id": "yxXK1_s21qur"
      }
    },
    {
      "cell_type": "code",
      "metadata": {
        "id": "TCKHChmFfyVL",
        "colab": {
          "base_uri": "https://localhost:8080/",
          "height": 36
        },
        "outputId": "44f5cf89-328b-4af3-c854-0011b953ce5a"
      },
      "source": [
        "import tensorflow as tf\n",
        "from tensorflow.keras import layers\n",
        "from tensorflow.keras import callbacks\n",
        "\n",
        "from sklearn.model_selection import train_test_split\n",
        "\n",
        "import numpy as np\n",
        "import matplotlib.pyplot as plt\n",
        "\n",
        "tf.__version__"
      ],
      "execution_count": 12,
      "outputs": [
        {
          "output_type": "execute_result",
          "data": {
            "text/plain": [
              "'2.15.0'"
            ],
            "application/vnd.google.colaboratory.intrinsic+json": {
              "type": "string"
            }
          },
          "metadata": {},
          "execution_count": 12
        }
      ]
    },
    {
      "cell_type": "markdown",
      "metadata": {
        "id": "o2GvLGzZhicw"
      },
      "source": [
        "### 데이터 로드\n",
        "* TF에서 제공하는 데이터셋을 load해 간단한 전처리 진행"
      ]
    },
    {
      "cell_type": "code",
      "metadata": {
        "id": "Vem5Yu6nkT3b"
      },
      "source": [
        "# Load training and eval data from tf.keras\n",
        "(train_data, train_labels), (test_data, test_labels) = \\\n",
        "    tf.keras.datasets.fashion_mnist.load_data()"
      ],
      "execution_count": 13,
      "outputs": []
    },
    {
      "cell_type": "code",
      "metadata": {
        "id": "sWu2zE_SkVSG",
        "colab": {
          "base_uri": "https://localhost:8080/"
        },
        "outputId": "169c9675-c7c9-401b-ff18-7c94214311d8"
      },
      "source": [
        "print(train_data.shape, train_labels.shape)"
      ],
      "execution_count": 14,
      "outputs": [
        {
          "output_type": "stream",
          "name": "stdout",
          "text": [
            "(60000, 28, 28) (60000,)\n"
          ]
        }
      ]
    },
    {
      "cell_type": "code",
      "metadata": {
        "id": "mpHEO3i3kutr"
      },
      "source": [
        "train_data, valid_data, train_labels, valid_labels = \\\n",
        "    train_test_split(train_data, train_labels, test_size=0.1, shuffle=True)"
      ],
      "execution_count": 15,
      "outputs": []
    },
    {
      "cell_type": "code",
      "metadata": {
        "id": "9xlXz7RHkvvc",
        "colab": {
          "base_uri": "https://localhost:8080/"
        },
        "outputId": "18ed948f-2c6e-4aa1-e2ae-e2ac3f1c703f"
      },
      "source": [
        "print(train_data.shape, train_labels.shape)"
      ],
      "execution_count": 16,
      "outputs": [
        {
          "output_type": "stream",
          "name": "stdout",
          "text": [
            "(54000, 28, 28) (54000,)\n"
          ]
        }
      ]
    },
    {
      "cell_type": "code",
      "metadata": {
        "id": "h6qbYPmjkz07",
        "colab": {
          "base_uri": "https://localhost:8080/"
        },
        "outputId": "3b471acd-a31c-4ef2-c3b7-efc0eb316d42"
      },
      "source": [
        "print(valid_data.shape, valid_labels.shape)"
      ],
      "execution_count": 17,
      "outputs": [
        {
          "output_type": "stream",
          "name": "stdout",
          "text": [
            "(6000, 28, 28) (6000,)\n"
          ]
        }
      ]
    },
    {
      "cell_type": "code",
      "metadata": {
        "id": "AOPRVh6QlEAT",
        "colab": {
          "base_uri": "https://localhost:8080/",
          "height": 449
        },
        "outputId": "f183ffb3-6412-41fb-ddcb-39e785bb01dd"
      },
      "source": [
        "index = 5901\n",
        "print(\"label = {}\".format(valid_labels[index]))\n",
        "plt.imshow(valid_data[index].reshape(28, 28))\n",
        "plt.colorbar()\n",
        "#plt.gca().grid(False)\n",
        "plt.show()"
      ],
      "execution_count": 18,
      "outputs": [
        {
          "output_type": "stream",
          "name": "stdout",
          "text": [
            "label = 1\n"
          ]
        },
        {
          "output_type": "display_data",
          "data": {
            "text/plain": [
              "<Figure size 640x480 with 2 Axes>"
            ],
            "image/png": "[encoded data removed]"
          },
          "metadata": {}
        }
      ]
    },
    {
      "cell_type": "code",
      "metadata": {
        "id": "4-eGKQNGgfCm",
        "colab": {
          "base_uri": "https://localhost:8080/"
        },
        "outputId": "05ac2f1b-5234-4b1f-f639-88134b8957f1"
      },
      "source": [
        "train_data = train_data / 255.\n",
        "train_data = train_data.reshape(-1, 28 * 28)\n",
        "train_data = train_data.astype(np.float32)\n",
        "train_labels = train_labels.astype(np.int32)\n",
        "\n",
        "test_data = test_data / 255.\n",
        "test_data = test_data.reshape(-1, 28 * 28)\n",
        "test_data = test_data.astype(np.float32)\n",
        "test_labels = test_labels.astype(np.int32)\n",
        "\n",
        "valid_data = valid_data / 255.\n",
        "valid_data = valid_data.reshape(-1, 28 * 28)\n",
        "valid_data = valid_data.astype(np.float32)\n",
        "valid_labels = valid_labels.astype(np.int32)\n",
        "\n",
        "\n",
        "print(train_data.shape, train_labels.shape)\n",
        "print(test_data.shape, test_labels.shape)\n",
        "print(valid_data.shape, valid_labels.shape)\n"
      ],
      "execution_count": 19,
      "outputs": [
        {
          "output_type": "stream",
          "name": "stdout",
          "text": [
            "(54000, 784) (54000,)\n",
            "(10000, 784) (10000,)\n",
            "(6000, 784) (6000,)\n"
          ]
        }
      ]
    },
    {
      "cell_type": "markdown",
      "metadata": {
        "id": "YqZ7iqFohpPJ"
      },
      "source": [
        "### 학습에 사용할 tf.data.Dataset 구성\n",
        "* 학습에 잘 적용할 수 있도록 label 처리\n",
        "* 데이터셋 구성\n",
        "\n",
        "\n",
        "\n",
        "```\n",
        "# dataset format (dataloader 설정시)\n",
        "train_dataset = tf.data.Dataset.from_tensor_slices((train_data, train_labels))\n",
        "```\n",
        "\n",
        "\n",
        "\n",
        "```\n",
        "# 실행 결과\n",
        "<_BatchDataset element_spec=(TensorSpec(shape=(None, 784), dtype=tf.float32, name=None), TensorSpec(shape=(None, 10), dtype=tf.float32, name=None))>\n",
        "<_BatchDataset element_spec=(TensorSpec(shape=(None, 784), dtype=tf.float32, name=None), TensorSpec(shape=(None, 10), dtype=tf.float32, name=None))>\n",
        "<_BatchDataset element_spec=(TensorSpec(shape=(None, 784), dtype=tf.float32, name=None), TensorSpec(shape=(None, 10), dtype=tf.float32, name=None))>\n",
        "```\n",
        "\n",
        "\n",
        "\n"
      ]
    },
    {
      "cell_type": "code",
      "metadata": {
        "id": "xmm6PIkGhQ9z"
      },
      "source": [
        "def one_hot_label(image, label):\n",
        "  label = tf.one_hot(label, depth=10)\n",
        "  return image, label"
      ],
      "execution_count": 20,
      "outputs": []
    },
    {
      "cell_type": "code",
      "metadata": {
        "id": "_QewaIZ0hQ92",
        "colab": {
          "base_uri": "https://localhost:8080/"
        },
        "outputId": "a58dc14a-e26d-48e1-d6d0-48d85f6df944"
      },
      "source": [
        "batch_size = 32\n",
        "\n",
        "# for train\n",
        "train_dataset = tf.data.Dataset.from_tensor_slices((train_data, train_labels))\n",
        "train_dataset = train_dataset.shuffle(buffer_size=10000)\n",
        "train_dataset = train_dataset.map(one_hot_label)\n",
        "train_dataset = train_dataset.repeat().batch(batch_size=batch_size)\n",
        "print(train_dataset)\n",
        "\n",
        "# for test\n",
        "test_dataset = tf.data.Dataset.from_tensor_slices((test_data, test_labels))\n",
        "test_dataset = test_dataset.map(one_hot_label)\n",
        "test_dataset = test_dataset.batch(batch_size=batch_size)\n",
        "print(test_dataset)\n",
        "\n",
        "# for test\n",
        "valid_dataset = tf.data.Dataset.from_tensor_slices((valid_data, valid_labels))\n",
        "valid_dataset = valid_dataset.map(one_hot_label)\n",
        "valid_dataset = valid_dataset.batch(batch_size=batch_size)\n",
        "print(valid_dataset)"
      ],
      "execution_count": 21,
      "outputs": [
        {
          "output_type": "stream",
          "name": "stdout",
          "text": [
            "<_BatchDataset element_spec=(TensorSpec(shape=(None, 784), dtype=tf.float32, name=None), TensorSpec(shape=(None, 10), dtype=tf.float32, name=None))>\n",
            "<_BatchDataset element_spec=(TensorSpec(shape=(None, 784), dtype=tf.float32, name=None), TensorSpec(shape=(None, 10), dtype=tf.float32, name=None))>\n",
            "<_BatchDataset element_spec=(TensorSpec(shape=(None, 784), dtype=tf.float32, name=None), TensorSpec(shape=(None, 10), dtype=tf.float32, name=None))>\n"
          ]
        }
      ]
    },
    {
      "cell_type": "markdown",
      "metadata": {
        "id": "2Nuty9VRhyqh"
      },
      "source": [
        "### 모델 구성"
      ]
    },
    {
      "cell_type": "markdown",
      "source": [
        "- Layer: input Layer: 64 -> 32 -> 16 -> output: 10 Layer"
      ],
      "metadata": {
        "id": "-Pk9tm0m1bYj"
      }
    },
    {
      "cell_type": "markdown",
      "source": [
        "\n",
        "- tf.keras.layers.Dense format\n",
        "```\n",
        " def __init__(self,\n",
        "               units,\n",
        "               activation=None,\n",
        "               use_bias=True,\n",
        "               kernel_initializer='glorot_uniform',\n",
        "               bias_initializer='zeros',\n",
        "               kernel_regularizer=None,\n",
        "               bias_regularizer=None,\n",
        "               activity_regularizer=None,\n",
        "               kernel_constraint=None,\n",
        "               bias_constraint=None,\n",
        "               **kwargs):\n",
        "```\n",
        "\n"
      ],
      "metadata": {
        "id": "VeqGwTsU2Cy9"
      }
    },
    {
      "cell_type": "code",
      "metadata": {
        "id": "rxm7uM4Vg8Y1"
      },
      "source": [
        "# Flatten (inputs)\n",
        "# Dense 64 relu\n",
        "# Dense 32 relu\n",
        "# Dense 16 relu\n",
        "# (outputs)\n",
        "\n",
        "model = tf.keras.Sequential([\n",
        "    layers.Dense(64, activation='relu'),\n",
        "    layers.Dense(32, activation='relu'),\n",
        "    layers.Dense(16, activation='relu'),\n",
        "    layers.Dense(10),\n",
        "])"
      ],
      "execution_count": 22,
      "outputs": []
    },
    {
      "cell_type": "code",
      "metadata": {
        "id": "w5wTN0SdhgUy"
      },
      "source": [
        "model.compile(optimizer=tf.keras.optimizers.Adam(1e-4),\n",
        "              loss=tf.keras.losses.CategoricalCrossentropy(from_logits=True),\n",
        "              metrics=['accuracy'])"
      ],
      "execution_count": 23,
      "outputs": []
    },
    {
      "cell_type": "code",
      "metadata": {
        "id": "aBiwV68thnJe",
        "colab": {
          "base_uri": "https://localhost:8080/"
        },
        "outputId": "ea781c30-e972-4507-ff38-70a45484202e"
      },
      "source": [
        "# without training, just inference a model in eager execution:\n",
        "predictions = model(train_data[0:1], training=False)\n",
        "print(\"Predictions: \", predictions.numpy())"
      ],
      "execution_count": 24,
      "outputs": [
        {
          "output_type": "stream",
          "name": "stdout",
          "text": [
            "Predictions:  [[-0.04109631  0.06033784 -0.11953629  0.09884654 -0.02095581 -0.06571455\n",
            "   0.02663154  0.01639239 -0.02583205  0.01091126]]\n"
          ]
        }
      ]
    },
    {
      "cell_type": "code",
      "metadata": {
        "id": "q0yMruVchi4z",
        "colab": {
          "base_uri": "https://localhost:8080/"
        },
        "outputId": "9752b889-e0fc-4c2e-8d30-3ea49caff5f2"
      },
      "source": [
        "model.summary()"
      ],
      "execution_count": 25,
      "outputs": [
        {
          "output_type": "stream",
          "name": "stdout",
          "text": [
            "Model: \"sequential\"\n",
            "_________________________________________________________________\n",
            " Layer (type)                Output Shape              Param #   \n",
            "=================================================================\n",
            " dense (Dense)               (1, 64)                   50240     \n",
            "                                                                 \n",
            " dense_1 (Dense)             (1, 32)                   2080      \n",
            "                                                                 \n",
            " dense_2 (Dense)             (1, 16)                   528       \n",
            "                                                                 \n",
            " dense_3 (Dense)             (1, 10)                   170       \n",
            "                                                                 \n",
            "=================================================================\n",
            "Total params: 53018 (207.10 KB)\n",
            "Trainable params: 53018 (207.10 KB)\n",
            "Non-trainable params: 0 (0.00 Byte)\n",
            "_________________________________________________________________\n"
          ]
        }
      ]
    },
    {
      "cell_type": "markdown",
      "metadata": {
        "id": "8DOW-3_uh0rF"
      },
      "source": [
        "### 모델 학습 구성"
      ]
    },
    {
      "cell_type": "code",
      "source": [
        "check_point_cb = callbacks.ModelCheckpoint('fashion_mnist_model.h5',\n",
        "                                           save_best_only=True,\n",
        "                                           verbose=1)\n",
        "early_stopping_cb = callbacks.EarlyStopping(patience=10,\n",
        "                                            monitor='val_loss',\n",
        "                                            restore_best_weights=True,\n",
        "                                            verbose=1)"
      ],
      "metadata": {
        "id": "Mp_2_AHW0c0t"
      },
      "execution_count": 26,
      "outputs": []
    },
    {
      "cell_type": "code",
      "metadata": {
        "id": "HLqC2Qx6hjFc",
        "colab": {
          "base_uri": "https://localhost:8080/"
        },
        "outputId": "b24122c1-1339-471b-e2d0-37ed46c40471"
      },
      "source": [
        "max_epochs = 100\n",
        "# using `tf.data.Dataset`\n",
        "history = model.fit(train_dataset,\n",
        "                    epochs=max_epochs,\n",
        "                    steps_per_epoch=len(train_data) // batch_size,\n",
        "                    validation_data=valid_dataset,\n",
        "                    validation_steps=len(valid_data) // batch_size,\n",
        "                    callbacks=[check_point_cb, early_stopping_cb]\n",
        "                   )"
      ],
      "execution_count": 27,
      "outputs": [
        {
          "output_type": "stream",
          "name": "stdout",
          "text": [
            "Epoch 1/100\n",
            "1683/1687 [============================>.] - ETA: 0s - loss: 1.0747 - accuracy: 0.6481\n",
            "Epoch 1: val_loss improved from inf to 0.62315, saving model to fashion_mnist_model.h5\n",
            "1687/1687 [==============================] - 10s 5ms/step - loss: 1.0737 - accuracy: 0.6484 - val_loss: 0.6232 - val_accuracy: 0.8006\n",
            "Epoch 2/100\n",
            "  40/1687 [..............................] - ETA: 6s - loss: 0.6267 - accuracy: 0.7922"
          ]
        },
        {
          "output_type": "stream",
          "name": "stderr",
          "text": [
            "/usr/local/lib/python3.10/dist-packages/keras/src/engine/training.py:3103: UserWarning: You are saving your model as an HDF5 file via `model.save()`. This file format is considered legacy. We recommend using instead the native Keras format, e.g. `model.save('my_model.keras')`.\n",
            "  saving_api.save_model(\n"
          ]
        },
        {
          "output_type": "stream",
          "name": "stdout",
          "text": [
            "1683/1687 [============================>.] - ETA: 0s - loss: 0.5513 - accuracy: 0.8176\n",
            "Epoch 2: val_loss improved from 0.62315 to 0.49731, saving model to fashion_mnist_model.h5\n",
            "1687/1687 [==============================] - 7s 4ms/step - loss: 0.5510 - accuracy: 0.8176 - val_loss: 0.4973 - val_accuracy: 0.8324\n",
            "Epoch 3/100\n",
            "1681/1687 [============================>.] - ETA: 0s - loss: 0.4738 - accuracy: 0.8396\n",
            "Epoch 3: val_loss improved from 0.49731 to 0.45411, saving model to fashion_mnist_model.h5\n",
            "1687/1687 [==============================] - 8s 5ms/step - loss: 0.4737 - accuracy: 0.8397 - val_loss: 0.4541 - val_accuracy: 0.8458\n",
            "Epoch 4/100\n",
            "1683/1687 [============================>.] - ETA: 0s - loss: 0.4373 - accuracy: 0.8504\n",
            "Epoch 4: val_loss improved from 0.45411 to 0.43867, saving model to fashion_mnist_model.h5\n",
            "1687/1687 [==============================] - 8s 5ms/step - loss: 0.4375 - accuracy: 0.8504 - val_loss: 0.4387 - val_accuracy: 0.8509\n",
            "Epoch 5/100\n",
            "1677/1687 [============================>.] - ETA: 0s - loss: 0.4151 - accuracy: 0.8569\n",
            "Epoch 5: val_loss improved from 0.43867 to 0.42128, saving model to fashion_mnist_model.h5\n",
            "1687/1687 [==============================] - 9s 5ms/step - loss: 0.4154 - accuracy: 0.8568 - val_loss: 0.4213 - val_accuracy: 0.8531\n",
            "Epoch 6/100\n",
            "1680/1687 [============================>.] - ETA: 0s - loss: 0.3974 - accuracy: 0.8624\n",
            "Epoch 6: val_loss did not improve from 0.42128\n",
            "1687/1687 [==============================] - 8s 5ms/step - loss: 0.3977 - accuracy: 0.8623 - val_loss: 0.4216 - val_accuracy: 0.8534\n",
            "Epoch 7/100\n",
            "1681/1687 [============================>.] - ETA: 0s - loss: 0.3846 - accuracy: 0.8658\n",
            "Epoch 7: val_loss improved from 0.42128 to 0.39806, saving model to fashion_mnist_model.h5\n",
            "1687/1687 [==============================] - 8s 5ms/step - loss: 0.3846 - accuracy: 0.8658 - val_loss: 0.3981 - val_accuracy: 0.8628\n",
            "Epoch 8/100\n",
            "1687/1687 [==============================] - ETA: 0s - loss: 0.3736 - accuracy: 0.8707\n",
            "Epoch 8: val_loss improved from 0.39806 to 0.39346, saving model to fashion_mnist_model.h5\n",
            "1687/1687 [==============================] - 8s 5ms/step - loss: 0.3736 - accuracy: 0.8707 - val_loss: 0.3935 - val_accuracy: 0.8618\n",
            "Epoch 9/100\n",
            "1680/1687 [============================>.] - ETA: 0s - loss: 0.3651 - accuracy: 0.8713\n",
            "Epoch 9: val_loss improved from 0.39346 to 0.38846, saving model to fashion_mnist_model.h5\n",
            "1687/1687 [==============================] - 8s 5ms/step - loss: 0.3652 - accuracy: 0.8711 - val_loss: 0.3885 - val_accuracy: 0.8683\n",
            "Epoch 10/100\n",
            "1679/1687 [============================>.] - ETA: 0s - loss: 0.3568 - accuracy: 0.8745\n",
            "Epoch 10: val_loss improved from 0.38846 to 0.38314, saving model to fashion_mnist_model.h5\n",
            "1687/1687 [==============================] - 8s 5ms/step - loss: 0.3564 - accuracy: 0.8746 - val_loss: 0.3831 - val_accuracy: 0.8666\n",
            "Epoch 11/100\n",
            "1683/1687 [============================>.] - ETA: 0s - loss: 0.3489 - accuracy: 0.8760\n",
            "Epoch 11: val_loss improved from 0.38314 to 0.37751, saving model to fashion_mnist_model.h5\n",
            "1687/1687 [==============================] - 7s 4ms/step - loss: 0.3490 - accuracy: 0.8760 - val_loss: 0.3775 - val_accuracy: 0.8673\n",
            "Epoch 12/100\n",
            "1687/1687 [==============================] - ETA: 0s - loss: 0.3424 - accuracy: 0.8790\n",
            "Epoch 12: val_loss improved from 0.37751 to 0.36801, saving model to fashion_mnist_model.h5\n",
            "1687/1687 [==============================] - 8s 5ms/step - loss: 0.3424 - accuracy: 0.8790 - val_loss: 0.3680 - val_accuracy: 0.8686\n",
            "Epoch 13/100\n",
            "1683/1687 [============================>.] - ETA: 0s - loss: 0.3358 - accuracy: 0.8805\n",
            "Epoch 13: val_loss did not improve from 0.36801\n",
            "1687/1687 [==============================] - 8s 5ms/step - loss: 0.3356 - accuracy: 0.8805 - val_loss: 0.3718 - val_accuracy: 0.8690\n",
            "Epoch 14/100\n",
            "1687/1687 [==============================] - ETA: 0s - loss: 0.3314 - accuracy: 0.8831\n",
            "Epoch 14: val_loss improved from 0.36801 to 0.36125, saving model to fashion_mnist_model.h5\n",
            "1687/1687 [==============================] - 7s 4ms/step - loss: 0.3314 - accuracy: 0.8831 - val_loss: 0.3613 - val_accuracy: 0.8733\n",
            "Epoch 15/100\n",
            "1675/1687 [============================>.] - ETA: 0s - loss: 0.3258 - accuracy: 0.8844\n",
            "Epoch 15: val_loss improved from 0.36125 to 0.35782, saving model to fashion_mnist_model.h5\n",
            "1687/1687 [==============================] - 8s 5ms/step - loss: 0.3259 - accuracy: 0.8844 - val_loss: 0.3578 - val_accuracy: 0.8752\n",
            "Epoch 16/100\n",
            "1685/1687 [============================>.] - ETA: 0s - loss: 0.3200 - accuracy: 0.8857\n",
            "Epoch 16: val_loss did not improve from 0.35782\n",
            "1687/1687 [==============================] - 8s 5ms/step - loss: 0.3202 - accuracy: 0.8857 - val_loss: 0.3603 - val_accuracy: 0.8723\n",
            "Epoch 17/100\n",
            "1684/1687 [============================>.] - ETA: 0s - loss: 0.3154 - accuracy: 0.8870\n",
            "Epoch 17: val_loss improved from 0.35782 to 0.35493, saving model to fashion_mnist_model.h5\n",
            "1687/1687 [==============================] - 7s 4ms/step - loss: 0.3155 - accuracy: 0.8869 - val_loss: 0.3549 - val_accuracy: 0.8723\n",
            "Epoch 18/100\n",
            "1686/1687 [============================>.] - ETA: 0s - loss: 0.3111 - accuracy: 0.8888\n",
            "Epoch 18: val_loss did not improve from 0.35493\n",
            "1687/1687 [==============================] - 8s 5ms/step - loss: 0.3110 - accuracy: 0.8888 - val_loss: 0.3566 - val_accuracy: 0.8778\n",
            "Epoch 19/100\n",
            "1685/1687 [============================>.] - ETA: 0s - loss: 0.3083 - accuracy: 0.8897\n",
            "Epoch 19: val_loss improved from 0.35493 to 0.34999, saving model to fashion_mnist_model.h5\n",
            "1687/1687 [==============================] - 8s 5ms/step - loss: 0.3084 - accuracy: 0.8897 - val_loss: 0.3500 - val_accuracy: 0.8780\n",
            "Epoch 20/100\n",
            "1684/1687 [============================>.] - ETA: 0s - loss: 0.3036 - accuracy: 0.8911\n",
            "Epoch 20: val_loss improved from 0.34999 to 0.34930, saving model to fashion_mnist_model.h5\n",
            "1687/1687 [==============================] - 8s 5ms/step - loss: 0.3036 - accuracy: 0.8911 - val_loss: 0.3493 - val_accuracy: 0.8777\n",
            "Epoch 21/100\n",
            "1687/1687 [==============================] - ETA: 0s - loss: 0.2990 - accuracy: 0.8927\n",
            "Epoch 21: val_loss improved from 0.34930 to 0.34818, saving model to fashion_mnist_model.h5\n",
            "1687/1687 [==============================] - 8s 5ms/step - loss: 0.2990 - accuracy: 0.8927 - val_loss: 0.3482 - val_accuracy: 0.8757\n",
            "Epoch 22/100\n",
            "1677/1687 [============================>.] - ETA: 0s - loss: 0.2970 - accuracy: 0.8923\n",
            "Epoch 22: val_loss improved from 0.34818 to 0.34371, saving model to fashion_mnist_model.h5\n",
            "1687/1687 [==============================] - 7s 4ms/step - loss: 0.2969 - accuracy: 0.8924 - val_loss: 0.3437 - val_accuracy: 0.8805\n",
            "Epoch 23/100\n",
            "1676/1687 [============================>.] - ETA: 0s - loss: 0.2933 - accuracy: 0.8939\n",
            "Epoch 23: val_loss did not improve from 0.34371\n",
            "1687/1687 [==============================] - 8s 5ms/step - loss: 0.2931 - accuracy: 0.8940 - val_loss: 0.3510 - val_accuracy: 0.8757\n",
            "Epoch 24/100\n",
            "1679/1687 [============================>.] - ETA: 0s - loss: 0.2898 - accuracy: 0.8959\n",
            "Epoch 24: val_loss improved from 0.34371 to 0.33948, saving model to fashion_mnist_model.h5\n",
            "1687/1687 [==============================] - 8s 5ms/step - loss: 0.2898 - accuracy: 0.8959 - val_loss: 0.3395 - val_accuracy: 0.8825\n",
            "Epoch 25/100\n",
            "1685/1687 [============================>.] - ETA: 0s - loss: 0.2873 - accuracy: 0.8965\n",
            "Epoch 25: val_loss did not improve from 0.33948\n",
            "1687/1687 [==============================] - 7s 4ms/step - loss: 0.2873 - accuracy: 0.8965 - val_loss: 0.3401 - val_accuracy: 0.8819\n",
            "Epoch 26/100\n",
            "1682/1687 [============================>.] - ETA: 0s - loss: 0.2841 - accuracy: 0.8979\n",
            "Epoch 26: val_loss did not improve from 0.33948\n",
            "1687/1687 [==============================] - 8s 5ms/step - loss: 0.2842 - accuracy: 0.8979 - val_loss: 0.3483 - val_accuracy: 0.8773\n",
            "Epoch 27/100\n",
            "1686/1687 [============================>.] - ETA: 0s - loss: 0.2810 - accuracy: 0.8984\n",
            "Epoch 27: val_loss did not improve from 0.33948\n",
            "1687/1687 [==============================] - 8s 5ms/step - loss: 0.2810 - accuracy: 0.8984 - val_loss: 0.3462 - val_accuracy: 0.8768\n",
            "Epoch 28/100\n",
            "1679/1687 [============================>.] - ETA: 0s - loss: 0.2787 - accuracy: 0.8996\n",
            "Epoch 28: val_loss improved from 0.33948 to 0.33778, saving model to fashion_mnist_model.h5\n",
            "1687/1687 [==============================] - 8s 4ms/step - loss: 0.2785 - accuracy: 0.8997 - val_loss: 0.3378 - val_accuracy: 0.8805\n",
            "Epoch 29/100\n",
            "1677/1687 [============================>.] - ETA: 0s - loss: 0.2753 - accuracy: 0.9016\n",
            "Epoch 29: val_loss did not improve from 0.33778\n",
            "1687/1687 [==============================] - 8s 5ms/step - loss: 0.2753 - accuracy: 0.9016 - val_loss: 0.3398 - val_accuracy: 0.8815\n",
            "Epoch 30/100\n",
            "1681/1687 [============================>.] - ETA: 0s - loss: 0.2730 - accuracy: 0.9017\n",
            "Epoch 30: val_loss did not improve from 0.33778\n",
            "1687/1687 [==============================] - 7s 4ms/step - loss: 0.2729 - accuracy: 0.9017 - val_loss: 0.3400 - val_accuracy: 0.8802\n",
            "Epoch 31/100\n",
            "1685/1687 [============================>.] - ETA: 0s - loss: 0.2711 - accuracy: 0.9026\n",
            "Epoch 31: val_loss did not improve from 0.33778\n",
            "1687/1687 [==============================] - 8s 5ms/step - loss: 0.2709 - accuracy: 0.9027 - val_loss: 0.3388 - val_accuracy: 0.8837\n",
            "Epoch 32/100\n",
            "1683/1687 [============================>.] - ETA: 0s - loss: 0.2665 - accuracy: 0.9037\n",
            "Epoch 32: val_loss did not improve from 0.33778\n",
            "1687/1687 [==============================] - 8s 5ms/step - loss: 0.2664 - accuracy: 0.9037 - val_loss: 0.3397 - val_accuracy: 0.8812\n",
            "Epoch 33/100\n",
            "1684/1687 [============================>.] - ETA: 0s - loss: 0.2655 - accuracy: 0.9043\n",
            "Epoch 33: val_loss did not improve from 0.33778\n",
            "1687/1687 [==============================] - 7s 4ms/step - loss: 0.2655 - accuracy: 0.9043 - val_loss: 0.3420 - val_accuracy: 0.8845\n",
            "Epoch 34/100\n",
            "1679/1687 [============================>.] - ETA: 0s - loss: 0.2623 - accuracy: 0.9045\n",
            "Epoch 34: val_loss did not improve from 0.33778\n",
            "1687/1687 [==============================] - 8s 5ms/step - loss: 0.2624 - accuracy: 0.9045 - val_loss: 0.3378 - val_accuracy: 0.8840\n",
            "Epoch 35/100\n",
            "1685/1687 [============================>.] - ETA: 0s - loss: 0.2615 - accuracy: 0.9057\n",
            "Epoch 35: val_loss did not improve from 0.33778\n",
            "1687/1687 [==============================] - 8s 5ms/step - loss: 0.2617 - accuracy: 0.9057 - val_loss: 0.3437 - val_accuracy: 0.8832\n",
            "Epoch 36/100\n",
            "1686/1687 [============================>.] - ETA: 0s - loss: 0.2590 - accuracy: 0.9070\n",
            "Epoch 36: val_loss improved from 0.33778 to 0.33661, saving model to fashion_mnist_model.h5\n",
            "1687/1687 [==============================] - 7s 4ms/step - loss: 0.2590 - accuracy: 0.9070 - val_loss: 0.3366 - val_accuracy: 0.8850\n",
            "Epoch 37/100\n",
            "1687/1687 [==============================] - ETA: 0s - loss: 0.2558 - accuracy: 0.9082\n",
            "Epoch 37: val_loss did not improve from 0.33661\n",
            "1687/1687 [==============================] - 8s 5ms/step - loss: 0.2558 - accuracy: 0.9082 - val_loss: 0.3454 - val_accuracy: 0.8795\n",
            "Epoch 38/100\n",
            "1682/1687 [============================>.] - ETA: 0s - loss: 0.2537 - accuracy: 0.9095\n",
            "Epoch 38: val_loss did not improve from 0.33661\n",
            "1687/1687 [==============================] - 8s 5ms/step - loss: 0.2540 - accuracy: 0.9093 - val_loss: 0.3439 - val_accuracy: 0.8834\n",
            "Epoch 39/100\n",
            "1687/1687 [==============================] - ETA: 0s - loss: 0.2523 - accuracy: 0.9091\n",
            "Epoch 39: val_loss did not improve from 0.33661\n",
            "1687/1687 [==============================] - 7s 4ms/step - loss: 0.2523 - accuracy: 0.9091 - val_loss: 0.3408 - val_accuracy: 0.8839\n",
            "Epoch 40/100\n",
            "1685/1687 [============================>.] - ETA: 0s - loss: 0.2502 - accuracy: 0.9096\n",
            "Epoch 40: val_loss did not improve from 0.33661\n",
            "1687/1687 [==============================] - 9s 5ms/step - loss: 0.2503 - accuracy: 0.9097 - val_loss: 0.3414 - val_accuracy: 0.8822\n",
            "Epoch 41/100\n",
            "1684/1687 [============================>.] - ETA: 0s - loss: 0.2475 - accuracy: 0.9111\n",
            "Epoch 41: val_loss did not improve from 0.33661\n",
            "1687/1687 [==============================] - 8s 5ms/step - loss: 0.2476 - accuracy: 0.9110 - val_loss: 0.3399 - val_accuracy: 0.8837\n",
            "Epoch 42/100\n",
            "1681/1687 [============================>.] - ETA: 0s - loss: 0.2468 - accuracy: 0.9106\n",
            "Epoch 42: val_loss did not improve from 0.33661\n",
            "1687/1687 [==============================] - 8s 5ms/step - loss: 0.2467 - accuracy: 0.9106 - val_loss: 0.3422 - val_accuracy: 0.8865\n",
            "Epoch 43/100\n",
            "1686/1687 [============================>.] - ETA: 0s - loss: 0.2437 - accuracy: 0.9121\n",
            "Epoch 43: val_loss did not improve from 0.33661\n",
            "1687/1687 [==============================] - 8s 5ms/step - loss: 0.2436 - accuracy: 0.9121 - val_loss: 0.3514 - val_accuracy: 0.8808\n",
            "Epoch 44/100\n",
            "1682/1687 [============================>.] - ETA: 0s - loss: 0.2414 - accuracy: 0.9124\n",
            "Epoch 44: val_loss did not improve from 0.33661\n",
            "1687/1687 [==============================] - 8s 5ms/step - loss: 0.2416 - accuracy: 0.9123 - val_loss: 0.3416 - val_accuracy: 0.8854\n",
            "Epoch 45/100\n",
            "1680/1687 [============================>.] - ETA: 0s - loss: 0.2406 - accuracy: 0.9139\n",
            "Epoch 45: val_loss did not improve from 0.33661\n",
            "1687/1687 [==============================] - 8s 5ms/step - loss: 0.2404 - accuracy: 0.9140 - val_loss: 0.3433 - val_accuracy: 0.8852\n",
            "Epoch 46/100\n",
            "1681/1687 [============================>.] - ETA: 0s - loss: 0.2391 - accuracy: 0.9140\n",
            "Epoch 46: val_loss did not improve from 0.33661\n",
            "Restoring model weights from the end of the best epoch: 36.\n",
            "1687/1687 [==============================] - 8s 5ms/step - loss: 0.2390 - accuracy: 0.9140 - val_loss: 0.3385 - val_accuracy: 0.8869\n",
            "Epoch 46: early stopping\n"
          ]
        }
      ]
    },
    {
      "cell_type": "code",
      "metadata": {
        "id": "P5ZcVB42hqDE",
        "colab": {
          "base_uri": "https://localhost:8080/",
          "height": 699
        },
        "outputId": "4a99a35b-1158-4412-828a-da54fde118d8"
      },
      "source": [
        "acc = history.history['accuracy']\n",
        "val_acc = history.history['val_accuracy']\n",
        "\n",
        "loss = history.history['loss']\n",
        "val_loss = history.history['val_loss']\n",
        "\n",
        "epochs_range = range(len(acc))\n",
        "\n",
        "plt.figure(figsize=(8, 8))\n",
        "plt.subplot(1, 2, 1)\n",
        "plt.plot(epochs_range, acc, label='Training Accuracy')\n",
        "plt.plot(epochs_range, val_acc, label='Validation Accuracy')\n",
        "plt.legend(loc='lower right')\n",
        "plt.title('Training and Valid Accuracy')\n",
        "\n",
        "plt.subplot(1, 2, 2)\n",
        "plt.plot(epochs_range, loss, label='Training Loss')\n",
        "plt.plot(epochs_range, val_loss, label='Validation Loss')\n",
        "plt.legend(loc='upper right')\n",
        "plt.title('Training and Valid Loss')\n",
        "plt.show()"
      ],
      "execution_count": 28,
      "outputs": [
        {
          "output_type": "display_data",
          "data": {
            "text/plain": [
              "<Figure size 800x800 with 2 Axes>"
            ],
            "image/png": "[encoded data removed]"
          },
          "metadata": {}
        }
      ]
    },
    {
      "cell_type": "code",
      "metadata": {
        "id": "MIfLiTlehtAC",
        "colab": {
          "base_uri": "https://localhost:8080/"
        },
        "outputId": "324e6712-efdd-4bf9-b146-af71adb07d81"
      },
      "source": [
        "results = model.evaluate(test_dataset)"
      ],
      "execution_count": 29,
      "outputs": [
        {
          "output_type": "stream",
          "name": "stdout",
          "text": [
            "313/313 [==============================] - 1s 3ms/step - loss: 0.3541 - accuracy: 0.8774\n"
          ]
        }
      ]
    },
    {
      "cell_type": "code",
      "metadata": {
        "id": "nrwS9PJ6hxlm"
      },
      "source": [],
      "execution_count": 29,
      "outputs": []
    }
  ]
}